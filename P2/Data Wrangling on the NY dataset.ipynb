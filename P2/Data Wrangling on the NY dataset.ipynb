{
 "cells": [
  {
   "cell_type": "markdown",
   "metadata": {},
   "source": [
    "## 1. Area of investigation \n",
    "Map Area: New York, Manhattan area(USA)\n",
    "\n",
    "<img src=\"pictures/New York.png\" height=\"500\" width=\"800\">"
   ]
  },
  {
   "cell_type": "markdown",
   "metadata": {},
   "source": [
    "As my computer has limited computing power I created a custom query from <a href=\"http://overpass-turbo.eu/\">OverPass turbo</a> where the OSM output file has a reasonable size.\n",
    "I limited the extraction to only the restaurant.\n",
    "\n",
    "Here is the query\n",
    "\n",
    "````javascript\n",
    "[out:xml][timeout:25];\n",
    "(\n",
    "  node[\"amenity\"=\"restaurant\"]({{bbox}});\n",
    "  way[\"amenity\"=\"restaurant\"]({{bbox}});\n",
    "  relation[\"amenity\"=\"restaurant\"]({{bbox}});\n",
    ");\n",
    "out body;\n",
    ">;\n",
    "out skel qt;\n",
    "````\n",
    "The size of this extract is very small (1.12 MB)\n",
    "````shell\n",
    "ls -l new-york_new-york.osm\n",
    "-rw-r-----@ 1 mic0331  staff  1121968 Mar 13 16:40 new-york_new-york.osm\n",
    "````"
   ]
  },
  {
   "cell_type": "code",
   "execution_count": 110,
   "metadata": {
    "collapsed": true
   },
   "outputs": [],
   "source": [
    "from __future__ import absolute_import\n",
    "\n",
    "osm_file = \"./data/new-york_new-york.osm\""
   ]
  },
  {
   "cell_type": "markdown",
   "metadata": {},
   "source": [
    "<hr>"
   ]
  },
  {
   "cell_type": "markdown",
   "metadata": {},
   "source": [
    "## 2. `mapparser.py` results"
   ]
  },
  {
   "cell_type": "markdown",
   "metadata": {},
   "source": [
    "This script is iteratively parsing the OSM file to find-out what and how many tags are available."
   ]
  },
  {
   "cell_type": "code",
   "execution_count": 111,
   "metadata": {
    "collapsed": false
   },
   "outputs": [
    {
     "name": "stdout",
     "output_type": "stream",
     "text": [
      "{'member': 2,\n",
      " 'meta': 1,\n",
      " 'nd': 5175,\n",
      " 'node': 6386,\n",
      " 'note': 1,\n",
      " 'osm': 1,\n",
      " 'relation': 1,\n",
      " 'tag': 14000,\n",
      " 'way': 576}\n"
     ]
    }
   ],
   "source": [
    "from scripts import mapparser\n",
    "\n",
    "mapparser.run(osm_file)"
   ]
  },
  {
   "cell_type": "markdown",
   "metadata": {},
   "source": [
    "<hr>"
   ]
  },
  {
   "cell_type": "markdown",
   "metadata": {},
   "source": [
    "##3. `tags.py` results"
   ]
  },
  {
   "cell_type": "markdown",
   "metadata": {},
   "source": [
    "Check the `k` value for each `<tag>` and see if they can be valid keys in MongoDB, as well as see if there are any other potential problems."
   ]
  },
  {
   "cell_type": "code",
   "execution_count": 112,
   "metadata": {
    "collapsed": false
   },
   "outputs": [
    {
     "name": "stdout",
     "output_type": "stream",
     "text": [
      "{'lower': 8636, 'lower_colon': 5363, 'other': 1, 'problemchars': 0}\n"
     ]
    }
   ],
   "source": [
    "from scripts import tags\n",
    "\n",
    "tags.run(osm_file)"
   ]
  },
  {
   "cell_type": "markdown",
   "metadata": {},
   "source": [
    "<hr>"
   ]
  },
  {
   "cell_type": "markdown",
   "metadata": {},
   "source": [
    "## 4. `audit.py` results"
   ]
  },
  {
   "cell_type": "markdown",
   "metadata": {},
   "source": [
    "Audit the OSMFILE and change the variable 'mapping' to reflect the changes needed to fix the unexpected street types to the appropriate ones in the expected list."
   ]
  },
  {
   "cell_type": "code",
   "execution_count": 113,
   "metadata": {
    "collapsed": false
   },
   "outputs": [
    {
     "name": "stdout",
     "output_type": "stream",
     "text": [
      "{'1': {'US 1'},\n",
      " '10': {'Nwe Jersey 10'},\n",
      " '15': {'Rt 15'},\n",
      " '17': {'New Jersey 17'},\n",
      " '206': {'RT 206'},\n",
      " '27': {'Route 27'},\n",
      " '35': {'Route 35'},\n",
      " '36': {'NJ Route 36'},\n",
      " '46': {'Route 46', 'US 46'},\n",
      " '683': {'County Road 683'},\n",
      " 'Alley': {'Freeman Alley'},\n",
      " 'Americas': {'Avenue Of The Americas'},\n",
      " 'Ave': {'5th Ave',\n",
      "         '6th Ave',\n",
      "         'Centennial Ave',\n",
      "         'East Rock Ave',\n",
      "         'Mount Hope Ave',\n",
      "         'Plainfield Ave',\n",
      "         'W Crescent Ave',\n",
      "         'W Mt Pleasant Ave'},\n",
      " 'Ave,': {'Franklin Ave,'},\n",
      " 'Ave.': {'Fire Island Ave.',\n",
      "          'Franklin Ave.',\n",
      "          'Springfield Ave.',\n",
      "          'Washington Ave.'},\n",
      " 'Avene': {'Madison Avene'},\n",
      " 'B': {'Avenue B'},\n",
      " 'Blvd': {'Bell Blvd',\n",
      "          'College Point Blvd',\n",
      "          'Manorhaven Blvd',\n",
      "          'Orchard Beach Blvd',\n",
      "          'Queens Blvd',\n",
      "          'Woodhaven Blvd'},\n",
      " 'Broadway': {'West Broadway', 'East Broadway', 'Broadway'},\n",
      " 'Center': {'Theatre Center'},\n",
      " 'Chestnut': {'Chestnut'},\n",
      " 'East': {'Kings Highway East',\n",
      "          'Route 10 East',\n",
      "          'Route 46 East',\n",
      "          'US 46 East'},\n",
      " 'Extension': {'River Road Extension'},\n",
      " 'Highway': {'Nesconset Highway', 'Montauk Highway'},\n",
      " 'J': {'Avenue J'},\n",
      " 'Main': {'W Main'},\n",
      " 'N': {'Route 31 N'},\n",
      " 'North': {'Astoria Boulevard North'},\n",
      " 'Off': {'Tunxis Hill Cut Off'},\n",
      " 'Path': {'Old Willets Path'},\n",
      " 'Plaza': {'Watchung Plaza'},\n",
      " 'Rd': {'Hampton House Rd',\n",
      "        'Iroquois Rd',\n",
      "        'Macopin Rd',\n",
      "        'Schalks Crossing Rd',\n",
      "        'Tunxis Hill Rd',\n",
      "        'Valley Rd'},\n",
      " 'Ridgewood': {'East Ridgewood'},\n",
      " 'Rt-31': {'Rt-31'},\n",
      " 'South': {'7th Avenue South', 'Route 206 South'},\n",
      " 'St': {'West 32nd St', '9th St', '6th St'},\n",
      " 'St.': {'11th St.',\n",
      "         'Broad St.',\n",
      "         'East 86th St.',\n",
      "         'Warren St.',\n",
      "         'Washington St.'},\n",
      " 'Steet': {'West 8th Steet'},\n",
      " 'Tpke': {'Black Rock Tpke'},\n",
      " 'Turnpike': {'Black Rock Turnpike',\n",
      "              'Morris Turnpike',\n",
      "              'Paterson - Hamburg Turnpike',\n",
      "              'West Jericho Turnpike'},\n",
      " 'U': {'Avenue U'},\n",
      " 'Vanderbilt': {'Vanderbilt'},\n",
      " 'Warren': {'Warren'},\n",
      " 'Way': {'Pleasant Valley Way'},\n",
      " 'West': {'Cadman Plaza West',\n",
      "          'Central Park West',\n",
      "          'Route 10 West',\n",
      "          'Route 46 West',\n",
      "          'Union Square West'},\n",
      " 'avenue': {'2nd avenue'},\n",
      " 'street': {'Mott street'}}\n"
     ]
    }
   ],
   "source": [
    "from scripts import audit\n",
    "import pprint\n",
    "\n",
    "st_types = audit.audit(osm_file)\n",
    "pprint.pprint(dict(st_types))      "
   ]
  },
  {
   "cell_type": "markdown",
   "metadata": {},
   "source": [
    "As we can see, we have the similar problem faced in the Lesson 6, some street names are spelled differently.\n",
    "Let's implement the update process on this dataset.\n",
    "We use an improoved version of string replacement using a more complex regrex pattern compare to the implementation in `audit.py`"
   ]
  },
  {
   "cell_type": "code",
   "execution_count": 114,
   "metadata": {
    "collapsed": false
   },
   "outputs": [
    {
     "name": "stdout",
     "output_type": "stream",
     "text": [
      "{'Avenue': '\\\\b(?:Avene|Ave|avenue)\\\\b',\n",
      " 'Boulvard': '\\\\b(?:Blvd)\\\\b',\n",
      " 'Mount': '\\\\b(?:Mt)\\\\b',\n",
      " 'Road': '\\\\b(?:Rd)\\\\b',\n",
      " 'Street': '\\\\b(?:St)\\\\b',\n",
      " 'West': '\\\\b(?:W)\\\\b'}\n",
      "11th St. => 11th Street\n",
      "East 86th St. => East 86th Street\n",
      "Broad St. => Broad Street\n",
      "Washington St. => Washington Street\n",
      "Warren St. => Warren Street\n",
      "Franklin Ave, => Franklin Avenue\n",
      "West 32nd St => West 32nd Street\n",
      "9th St => 9th Street\n",
      "6th St => 6th Street\n",
      "Fire Island Ave. => Fire Island Avenue\n",
      "Franklin Ave. => Franklin Avenue\n",
      "Washington Ave. => Washington Avenue\n",
      "Springfield Ave. => Springfield Avenue\n",
      "Madison Avene => Madison Avenue\n",
      "W Main => West Main\n",
      "Schalks Crossing Rd => Schalks Crossing Road\n",
      "Valley Rd => Valley Road\n",
      "Hampton House Rd => Hampton House Road\n",
      "Iroquois Rd => Iroquois Road\n",
      "Macopin Rd => Macopin Road\n",
      "Tunxis Hill Rd => Tunxis Hill Road\n",
      "Bell Blvd => Bell Boulvard\n",
      "College Point Blvd => College Point Boulvard\n",
      "Queens Blvd => Queens Boulvard\n",
      "Manorhaven Blvd => Manorhaven Boulvard\n",
      "Woodhaven Blvd => Woodhaven Boulvard\n",
      "Orchard Beach Blvd => Orchard Beach Boulvard\n",
      "2nd avenue => 2nd Avenue\n",
      "Mount Hope Ave => Mount Hope Avenue\n",
      "Centennial Ave => Centennial Avenue\n",
      "W Mt Pleasant Ave => W Mount Pleasant Ave\n",
      "W Mt Pleasant Ave => West Mt Pleasant Ave\n",
      "W Mt Pleasant Ave => W Mt Pleasant Avenue\n",
      "5th Ave => 5th Avenue\n",
      "Plainfield Ave => Plainfield Avenue\n",
      "East Rock Ave => East Rock Avenue\n",
      "6th Ave => 6th Avenue\n",
      "W Crescent Ave => West Crescent Ave\n",
      "W Crescent Ave => W Crescent Avenue\n"
     ]
    }
   ],
   "source": [
    "import re\n",
    "\n",
    "mapping=[('Street', ['St']), \n",
    "         ('Road', ['Rd']),\n",
    "         ('Avenue', ['Avene', 'Ave', 'avenue']),\n",
    "         ('Boulvard', ['Blvd']),\n",
    "         ('West', ['W']),\n",
    "         ('Mount', ['Mt'])]\n",
    "\n",
    "d={ k : \"\\\\b(?:\" + \"|\".join(v) + \")\\\\b\" for k,v in mapping}\n",
    "pprint.pprint(d)\n",
    "\n",
    "for st_type, ways in st_types.items():\n",
    "    for name in ways:\n",
    "        for k,r in d.items(): \n",
    "            better_name = re.sub(r, k, name)\n",
    "            \n",
    "            if name != better_name:    \n",
    "                if better_name.endswith(\",\"): better_name = better_name[:-1]\n",
    "                if better_name.endswith(\".\"): better_name = better_name[:-1]  \n",
    "                print(name, \"=>\", better_name)          \n",
    "                \n",
    "                "
   ]
  },
  {
   "cell_type": "markdown",
   "metadata": {
    "collapsed": true
   },
   "source": [
    "<hr>"
   ]
  }
 ],
 "metadata": {
  "kernelspec": {
   "display_name": "Python 3",
   "language": "python",
   "name": "python3"
  },
  "language_info": {
   "codemirror_mode": {
    "name": "ipython",
    "version": 3
   },
   "file_extension": ".py",
   "mimetype": "text/x-python",
   "name": "python",
   "nbconvert_exporter": "python",
   "pygments_lexer": "ipython3",
   "version": "3.4.2"
  }
 },
 "nbformat": 4,
 "nbformat_minor": 0
}
