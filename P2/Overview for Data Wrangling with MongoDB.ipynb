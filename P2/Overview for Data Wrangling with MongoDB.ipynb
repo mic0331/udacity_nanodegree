{
 "cells": [
  {
   "cell_type": "markdown",
   "metadata": {},
   "source": [
    "# 1. <u>Project summary</u>"
   ]
  },
  {
   "cell_type": "markdown",
   "metadata": {},
   "source": [
    "## What is your name?"
   ]
  },
  {
   "cell_type": "markdown",
   "metadata": {},
   "source": [
    "Michaël Lambé"
   ]
  },
  {
   "cell_type": "markdown",
   "metadata": {},
   "source": [
    "## What E-mail address do you use to sign in to Udacity?"
   ]
  },
  {
   "cell_type": "markdown",
   "metadata": {},
   "source": [
    "mic0331@gmail.com"
   ]
  },
  {
   "cell_type": "markdown",
   "metadata": {},
   "source": [
    "## What area of the world you used for your project? Post a link to the map position and write a short description. Note that the osm file of the map should be at least 50MB."
   ]
  },
  {
   "cell_type": "markdown",
   "metadata": {},
   "source": [
    "Map Area: Brussels, BE, Belgium\n",
    "<img src=\"pictures/Brussels.png\">"
   ]
  },
  {
   "cell_type": "markdown",
   "metadata": {},
   "source": [
    "I chose the most known city of Belgium as this particular place because it is the capital of my country, I know it well and would like its map to be improved in quality!"
   ]
  },
  {
   "cell_type": "markdown",
   "metadata": {},
   "source": [
    "https://s3.amazonaws.com/metro-extracts.mapzen.com/brussels_belgium.osm.bz2"
   ]
  },
  {
   "cell_type": "markdown",
   "metadata": {},
   "source": [
    "## Is there a list  of  Web sites, books, forums, blog posts, github repositories etc that you referred to or used  in this  submission (Add N/A if you did not use  such resources)?"
   ]
  },
  {
   "cell_type": "markdown",
   "metadata": {},
   "source": [
    "The following book has been used as a complementary reference for this project : <a href=\"http://www.amazon.com/Python-Data-Analysis-Wrangling-IPython/dp/1449319793/ref=sr_1_1?ie=UTF8&qid=1426059590&sr=8-1&keywords=Python+for+Data+Analysis\">Python for Data Analysis</a>"
   ]
  },
  {
   "cell_type": "markdown",
   "metadata": {},
   "source": [
    "##Please carefully read the following statement and include it in your email:"
   ]
  },
  {
   "cell_type": "markdown",
   "metadata": {},
   "source": [
    "“I hereby confirm that this submission is my work. I have cited above the origins of any parts of the submission that were taken from Websites, books, forums, blog posts, github repositories, etc. By including this in my email, I understand that I will be expected to explain my work in a video call with a Udacity coach before I can receive my verified certificate.”"
   ]
  },
  {
   "cell_type": "markdown",
   "metadata": {},
   "source": [
    "## Is there any other important information that you would want your project evaluator to know?"
   ]
  },
  {
   "cell_type": "markdown",
   "metadata": {},
   "source": [
    "The code of Lesson 6 has been slightly modified to cope with the version of python (3.x) installed on my computer.\n",
    "\n",
    "The answer to the programming exercices of Lesson 6 can be found here : [Lesson 6 exercices](Python Solutions to Course Exercises.ipynb)"
   ]
  },
  {
   "cell_type": "markdown",
   "metadata": {},
   "source": [
    "# 2. <u>Problems Encountered in the Map</u>"
   ]
  },
  {
   "cell_type": "markdown",
   "metadata": {
    "collapsed": false
   },
   "source": [
    "The main problem I enconter during this project was a performance issue.  The computer I am using has limited resources and therefore the data extraction and processing task was taking a lot of time.\n",
    "\n",
    "As a side note, in a near future, I am planning to purshase a <a href=\"http://bigboards.io/\">portable cluster</a> in order to have more processing power.\n",
    "\n",
    "Next, as we will see later, the data available for Brussels on OpenStreetMap are very poor."
   ]
  },
  {
   "cell_type": "markdown",
   "metadata": {},
   "source": [
    "# 3. <u>Data Overview</u>"
   ]
  },
  {
   "cell_type": "markdown",
   "metadata": {},
   "source": [
    "## 3.1. Load the data in MongoDb"
   ]
  },
  {
   "cell_type": "markdown",
   "metadata": {
    "collapsed": false
   },
   "source": [
    "The first step is to generate the JSON file from the OSM file, to do so I run the following command:"
   ]
  },
  {
   "cell_type": "code",
   "execution_count": 2,
   "metadata": {
    "collapsed": false
   },
   "outputs": [],
   "source": [
    "from __future__ import absolute_import\n",
    "from scripts import data\n",
    "osm_file = \"./data/brussels_belgium.osm\""
   ]
  },
  {
   "cell_type": "markdown",
   "metadata": {},
   "source": [
    "Let's look at the data"
   ]
  },
  {
   "cell_type": "markdown",
   "metadata": {},
   "source": [
    "````shell\n",
    "less ./data/brussels_belgium.osm\n",
    "\n",
    "<?xml version='1.0' encoding='UTF-8'?>\n",
    "<osm version=\"0.6\" generator=\"Osmosis 0.43.1\">\n",
    "  <bounds minlon=\"3.98100\" minlat=\"50.64500\" maxlon=\"4.76100\" maxlat=\"51.05300\" origin=\"http://www.openstreetmap.org/api/0.6\"/>\n",
    "  <node id=\"123350\" version=\"2\" timestamp=\"2011-09-28T10:53:32Z\" uid=\"8196\" user=\"raskas\" changeset=\"9418430\" lat=\"51.0031441\" lon=\"4.3165272\"/>\n",
    "  <node id=\"123351\" version=\"2\" timestamp=\"2011-09-28T10:53:32Z\" uid=\"8196\" user=\"raskas\" changeset=\"9418430\" lat=\"51.0131105\" lon=\"4.3167801\"/>\n",
    "  <node id=\"123352\" version=\"1\" timestamp=\"2007-05-31T20:44:09Z\" uid=\"8196\" user=\"raskas\" changeset=\"75136\" lat=\"51.0155716\" lon=\"4.3174118\"/>\n",
    "  <node id=\"123353\" version=\"3\" timestamp=\"2011-09-28T10:53:32Z\" uid=\"8196\" user=\"raskas\" changeset=\"9418430\" lat=\"51.017643\" lon=\"4.3184069\"/>\n",
    "  <node id=\"123354\" version=\"2\" timestamp=\"2011-09-28T10:53:32Z\" uid=\"8196\" user=\"raskas\" changeset=\"9418430\" lat=\"51.0260773\" lon=\"4.3226409\"/>\n",
    "  <node id=\"123355\" version=\"2\" timestamp=\"2011-10-28T17:40:00Z\" uid=\"138772\" user=\"lodde1949\" changeset=\"9678621\" lat=\"51.0434516\" lon=\"4.3314061\"/>\n",
    "  <node id=\"125892\" version=\"6\" timestamp=\"2011-11-24T22:05:32Z\" uid=\"15399\" user=\"eMerzh\" changeset=\"9938190\" lat=\"50.8500083\" lon=\"4.3553223\"/>\n",
    "  <node id=\"125893\" version=\"6\" timestamp=\"2011-11-24T22:05:32Z\" uid=\"15399\" user=\"eMerzh\" changeset=\"9938190\" lat=\"50.8490037\" lon=\"4.3542701\"/>\n",
    "  <node id=\"125896\" version=\"7\" timestamp=\"2012-09-07T20:52:24Z\" uid=\"383309\" user=\"AtonX\" changeset=\"13027910\" lat=\"50.8434399\" lon=\"4.3445588\"/>\n",
    "  <node id=\"125898\" version=\"5\" timestamp=\"2010-12-03T08:51:32Z\" uid=\"8323\" user=\"Toi\" changeset=\"6523562\" lat=\"50.8488054\" lon=\"4.3549931\"/>\n",
    "  <node id=\"125901\" version=\"6\" timestamp=\"2014-10-25T11:09:21Z\" uid=\"15188\" user=\"Polyglot\" changeset=\"26318656\" lat=\"50.850879\" lon=\"4.3394055\"/>\n",
    "  <node id=\"125904\" version=\"4\" timestamp=\"2014-03-02T09:17:54Z\" uid=\"101145\" user=\"BenoitL\" changeset=\"20860480\" lat=\"50.8442681\" lon=\"4.3369968\"/>\n",
    "  <node id=\"125907\" version=\"5\" timestamp=\"2011-07-08T21:44:46Z\" uid=\"246723\" user=\"toSc\" changeset=\"8670047\" lat=\"50.8478484\" lon=\"4.3404787\"/>\n",
    "  <node id=\"125914\" version=\"5\" timestamp=\"2014-12-23T21:53:46Z\" uid=\"101145\" user=\"BenoitL\" changeset=\"27660812\" lat=\"50.8390406\" lon=\"4.3331801\"/>\n",
    "  <node id=\"125915\" version=\"18\" timestamp=\"2012-01-24T12:15:35Z\" uid=\"379936\" user=\"Paul-Andre Duchesne\" changeset=\"10483858\" lat=\"50.8396221\" lon=\"4.3247428\"/>\n",
    "  <node id=\"125916\" version=\"14\" timestamp=\"2014-11-23T21:35:32Z\" uid=\"15188\" user=\"Polyglot\" changeset=\"26983153\" lat=\"50.8372075\" lon=\"4.3186965\"/>\n",
    "brussels_belgium.osm\n",
    "````"
   ]
  },
  {
   "cell_type": "code",
   "execution_count": null,
   "metadata": {
    "collapsed": false
   },
   "outputs": [],
   "source": [
    "data = data.process_map(osm_file, False)"
   ]
  },
  {
   "cell_type": "markdown",
   "metadata": {},
   "source": [
    "This commande is creating a JSON file and we can see the size of both the JSON and the OSM file:\n",
    "````shell\n",
    "ls -l data\n",
    "total 4068384\n",
    "-rw-r-----@ 1 mic0331  staff   999734572 Feb 19 17:08 brussels_belgium.osm\n",
    "-rw-r--r--  1 mic0331  staff  1083275201 Mar 11 10:38 brussels_belgium.osm.json\n",
    "````\n",
    "Next, we will load the Json document onto mongodb\n",
    "\n",
    "1/ Start MongoDb locally\n",
    "````shell\n",
    "$ mongod --dbpath /data/db\n",
    "````\n",
    "2/ Next, we import the data\n",
    "\n",
    "````shell\n",
    "mongoimport --db map --collection brussels --file ./data/brussels_belgium.osm.json\n",
    "\n",
    "connected to: 127.0.0.1\n",
    "2015-03-11T16:27:22.001+0100 \t\tProgress: 9645967/1083275201\t0%\n",
    "2015-03-11T16:27:22.001+0100 \t\t\t48700\t16233/second\n",
    "2015-03-11T16:27:25.002+0100 \t\tProgress: 21508812/1083275201\t1%\n",
    "2015-03-11T16:27:25.002+0100 \t\t\t109500\t18250/second\n",
    "2015-03-11T16:27:28.003+0100 \t\tProgress: 30490110/1083275201\t2%\n",
    "2015-03-11T16:27:28.003+0100 \t\t\t155300\t17255/second\n",
    "2015-03-11T16:27:31.029+0100 \t\tProgress: 41755620/1083275201\t3%\n",
    "2015-03-11T16:27:31.029+0100 \t\t\t213100\t17758/second\n",
    "2015-03-11T16:27:34.004+0100 \t\tProgress: 52795325/1083275201\t4%\n",
    "2015-03-11T16:27:34.004+0100 \t\t\t270200\t18013/second\n",
    "2015-03-11T16:27:37.000+0100 \t\tProgress: 64427537/1083275201\t5%\n",
    "\n",
    "....\n",
    "\n",
    "2015-03-11T16:31:57.001+0100 \t\tProgress: 1037818151/1083275201\t95%\n",
    "2015-03-11T16:31:57.001+0100 \t\t\t4720000\t16978/second\n",
    "2015-03-11T16:32:00.004+0100 \t\tProgress: 1055783648/1083275201\t97%\n",
    "2015-03-11T16:32:00.004+0100 \t\t\t4764200\t16954/second\n",
    "2015-03-11T16:32:03.115+0100 \t\tProgress: 1072011728/1083275201\t98%\n",
    "2015-03-11T16:32:03.115+0100 \t\t\t4811500\t16941/second\n",
    "2015-03-11T16:32:05.435+0100 check 9 4845432\n",
    "2015-03-11T16:32:05.565+0100 imported 4845432 objects\n",
    "````\n",
    "\n",
    "## 3.2. Basic statistics and data quality\n",
    "\n",
    "Next we can start Mongo and get some insight from the OSM file:\n",
    "\n",
    "````shell\n",
    "$ mongo\n",
    "> use map\n",
    "switched to db map\n",
    "````\n",
    "\n",
    "The initial OSM have a size file is 999.7 MB, the generated JSON file is 1.083 GB and the size of the collection is:\n",
    "\n",
    "````shell\n",
    "map> db.brussels.stats()\n",
    "{\n",
    "\t\"ns\" : \"map.brussels\",\n",
    "\t\"count\" : 4845432,\n",
    "\t\"size\" : 1446876544,\n",
    "\t\"avgObjSize\" : 298,\n",
    "\t\"storageSize\" : 1580150784,\n",
    "\t\"numExtents\" : 19,\n",
    "\t\"nindexes\" : 1,\n",
    "\t\"lastExtentSize\" : 415174656,\n",
    "\t\"paddingFactor\" : 1,\n",
    "\t\"systemFlags\" : 1,\n",
    "\t\"userFlags\" : 1,\n",
    "\t\"totalIndexSize\" : 157216304,\n",
    "\t\"indexSizes\" : {\n",
    "\t\t\"_id_\" : 157216304\n",
    "\t},\n",
    "\t\"ok\" : 1\n",
    "}\n",
    "````\n",
    "The size of the collection is 1.45 Gb\n",
    "This value is also confirmed by the following command:\n",
    "\n",
    "````shell\n",
    "map> db.brussels.dataSize()\n",
    "1446876544\n",
    "````\n",
    "Next, we will explore the size of some attributes of the dataset\n",
    "####Number of documents in the dataset\n",
    "````shell\n",
    "map> db.brussels.count()\n",
    "4845432\n",
    "````\n",
    "####Number of contributor to this map\n",
    "````shell\n",
    "map> db.brussels.distinct(\"created.user\").length\n",
    "2061\n",
    "````\n",
    "####Number of nodes and ways\n",
    "````shell\n",
    "map> db.brussels.find( { type: \"node\" } ).length()\n",
    "4142130\n",
    "map> db.brussels.find( { type: \"way\" } ).length()\n",
    "702693\n",
    "````\n",
    "####Number of shops\n",
    "````shell\n",
    "map> db.brussels.find( { shop: { $exists: true } } ).count()\n",
    "4378\n",
    "````\n",
    "\n",
    "####Number of Café\n",
    "````shell\n",
    "map> db.brussels.find( { amenity: \"cafe\" } ).count()\n",
    "485\n",
    "````\n",
    "\n",
    "Based on these simple query we can say that the data quality is relatively poor.  Knowing a bit Brussels, I know there are lot more café and shops in this region than the number return from these query.  This indicate that the data from OpenStreetMap  are incompleted or not up-to-date."
   ]
  },
  {
   "cell_type": "markdown",
   "metadata": {},
   "source": [
    "Let's now look at look at the data a bit deeply, we will check the record containing an address entry:\n",
    "````shell\n",
    "map> db.brussels.find({ \"address\" : { \"$exists\" : true } }).pretty()\n",
    "...\n",
    "{\n",
    "\t\"_id\" : ObjectId(\"55005ed88254b358d236c9ef\"),\n",
    "\t\"created\" : {\n",
    "\t\t\"uid\" : \"126124\",\n",
    "\t\t\"version\" : \"23\",\n",
    "\t\t\"user\" : \"le loup qui rit\",\n",
    "\t\t\"changeset\" : \"22924462\",\n",
    "\t\t\"timestamp\" : \"2014-06-14T12:02:08Z\"\n",
    "\t},\n",
    "\t\"operator\" : \"NMBS/SNCB\",\n",
    "\t\"name:nl\" : \"Brussel-Noord\",\n",
    "\t\"name:en\" : \"Brussels-North\",\n",
    "\t\"name:fr\" : \"Bruxelles-Nord\",\n",
    "\t\"address\" : {\n",
    "\t\t\"country\" : \"BE\"\n",
    "\t},\n",
    "\t\"pos\" : [\n",
    "\t\t50.8601323,\n",
    "\t\t4.361512\n",
    "\t],\n",
    "\t\"id\" : \"66180313\",\n",
    "\t\"type\" : \"node\",\n",
    "\t\"name:de\" : \"Brüssel-Nord\",\n",
    "\t\"name\" : \"Bruxelles-Nord - Brussel-Noord\",\n",
    "\t\"railway\" : \"station\",\n",
    "\t\"uic_ref\" : \"8800002\",\n",
    "\t\"ref\" : \"FBN\"\n",
    "}\n",
    "{\n",
    "\t\"_id\" : ObjectId(\"55005ed88254b358d236c9f0\"),\n",
    "\t\"created\" : {\n",
    "\t\t\"uid\" : \"15399\",\n",
    "\t\t\"version\" : \"6\",\n",
    "\t\t\"user\" : \"eMerzh\",\n",
    "\t\t\"changeset\" : \"19472757\",\n",
    "\t\t\"timestamp\" : \"2013-12-15T21:46:21Z\"\n",
    "\t},\n",
    "\t\"old_name:fr\" : \"Haeren\",\n",
    "\t\"is_in\" : \"Europe, Belgium, Bruxelles-Capitale, Ville de Bruxelles, Haren\",\n",
    "\t\"address\" : {\n",
    "\t\t\"postcode\" : \"1130\"\n",
    "\t},\n",
    "\t\"population:date\" : \"2005\",\n",
    "\t\"id\" : \"66186335\",\n",
    "\t\"old_name:nl\" : \"Haaren\",\n",
    "\t\"place\" : \"village\",\n",
    "\t\"type\" : \"node\",\n",
    "\t\"name\" : \"Haren\",\n",
    "\t\"pos\" : [\n",
    "\t\t50.8909441,\n",
    "\t\t4.4157553\n",
    "\t],\n",
    "\t\"wikipedia\" : \"fr:Haren (Bruxelles)\",\n",
    "\t\"population\" : \"4269\",\n",
    "\t\"old_name\" : \"Haeren / Haaren\"\n",
    "}\n",
    "...\n",
    "````\n"
   ]
  },
  {
   "cell_type": "markdown",
   "metadata": {},
   "source": [
    "Again we can see from these 2 nodes that the data quality is very poor.  The first node is a train station quite well known in Belgium and the fact that the address detail is limited to the country code show clear evidence of lack of information.  However, it is interesting to note that in Belgium we have 3 national languages (French, German, Flamish).  Here we see a translation available for the main language, Flamish, French and English."
   ]
  },
  {
   "cell_type": "markdown",
   "metadata": {},
   "source": [
    "Let's now look at the top 5 appearing amenities\n",
    "\n",
    "````shell\n",
    "db.brussels.aggregate([\n",
    "        {\"$match\":{\"amenity\":{\"$exists\":1}}}, \n",
    "        {\"$group\":{\"_id\":\"$amenity\", \"count\":{\"$sum\":1}}}, \n",
    "        {\"$sort\":{\"count\":1}}, \n",
    "        {\"$limit\":5}\n",
    "])\n",
    "\n",
    "{ \"_id\" : \"music_venue\", \"count\" : 1 }\n",
    "{ \"_id\" : \"vehicle_inspection\", \"count\" : 1 }\n",
    "{ \"_id\" : \"scout_hut\", \"count\" : 1 }\n",
    "{ \"_id\" : \"boat_storage\", \"count\" : 1 }\n",
    "{ \"_id\" : \"exhibition_center\", \"count\" : 1 }\n",
    "````\n",
    "\n",
    "Again, we don't see any multiple occurance of the same `amenity` showing poor data quality.\n",
    "Finally, we can run another query to see what are the top names in the dataset :\n",
    "\n",
    "````shell\n",
    "map> db.brussels.aggregate([\n",
    "           {\"$group\":{\"_id\": \"$name\", \"count\": {\"$sum\": 1}}},\n",
    "           {\"$sort\": {\"count\": -1}},\n",
    "           {\"$limit\": 5}\n",
    "])\n",
    "\n",
    "{ \"_id\" : null, \"count\" : 4754063 }\n",
    "{ \"_id\" : \"Brusselsesteenweg\", \"count\" : 368 }\n",
    "{ \"_id\" : \"Mechelsesteenweg\", \"count\" : 240 }\n",
    "{ \"_id\" : \"Stationsstraat\", \"count\" : 212 }\n",
    "{ \"_id\" : \"Leuvensesteenweg\", \"count\" : 211 }\n",
    "````\n",
    "\n",
    "Let's see the highest number of restaurant we have in the dataset.\n",
    "\n",
    "```shell\n",
    "map> db.brussels.aggregate([\n",
    "     {\"$match\":{\"amenity\":{\"$exists\":1}, \"amenity\":\"restaurant\"}},\n",
    "     {\"$group\":{\"_id\": \"$name\", \"count\": {\"$sum\": 1}}},\n",
    "     {\"$sort\": {\"count\": -1}},\n",
    "     {\"$limit\": 5}\n",
    "])\n",
    "\n",
    "{ \"_id\" : null, \"count\" : 73 }\n",
    "{ \"_id\" : \"Zorba\", \"count\" : 4 }\n",
    "{ \"_id\" : \"Lunch Garden\", \"count\" : 4 }\n",
    "{ \"_id\" : \"Mamma Roma\", \"count\" : 4 }\n",
    "{ \"_id\" : \"De Met\", \"count\" : 3 }\n",
    "```"
   ]
  },
  {
   "cell_type": "markdown",
   "metadata": {},
   "source": [
    "# 4. Additional Ideas"
   ]
  },
  {
   "cell_type": "markdown",
   "metadata": {
    "collapsed": false
   },
   "source": [
    "Due to the fact that this dataset is really poor, I have created a dedicated section where I can explore the data auditing part of the project.  This sub-project can be found at this link : [NY data anlysis](Data Wrangling on the NY dataset.ipynb)\n",
    "\n",
    "Why not exploring the data quality arround a certain geographical position point.  We will use the `$geoNear` command of mango to do this exercice.  At Brussel, there is a famous place called `Grand-Place`, the latitude and longitude of this position are respectively 50,84 and 4,35. Here is the exact position from Google Map : <a href=\"https://www.google.be/maps/place/Grand-Place/@50.846868,4.351788,15z/data=!4m2!3m1!1s0x47c3c47f4614f1f1:0xb03c355d8fe2cfb6?hl=fr\">Grand place</a>\n",
    "\n",
    "Let's build a query:\n",
    "\n",
    "````shell\n",
    "# Build a 2D index for the lat/long\n",
    "map> db.brussels.ensureIndex({pos: \"2d\"})\n",
    "{\n",
    "\t\"createdCollectionAutomatically\" : false,\n",
    "\t\"numIndexesBefore\" : 1,\n",
    "\t\"numIndexesAfter\" : 2,\n",
    "\t\"ok\" : 1\n",
    "}\n",
    "# Find the object arround the Grand-Place for a maxDistance of 1km\n",
    "# By default mongodb $near accepts $maxDistance as radius\n",
    "# One degree is approximately 111.12 kilometers\n",
    "map> db.brussels.find({\n",
    "    pos: {$near:[50.84, 4.35], $maxDistance: 1/111.12}, \n",
    "    \"address\" : { \"$exists\" : true }\n",
    "}).pretty()\n",
    "\n",
    "{\n",
    "\t\"_id\" : ObjectId(\"55005fa78254b358d26e78fb\"),\n",
    "\t\"created\" : {\n",
    "\t\t\"uid\" : \"15399\",\n",
    "\t\t\"version\" : \"1\",\n",
    "\t\t\"user\" : \"eMerzh\",\n",
    "\t\t\"changeset\" : \"20485240\",\n",
    "\t\t\"timestamp\" : \"2014-02-10T13:31:49Z\"\n",
    "\t},\n",
    "\t\"type\" : \"node\",\n",
    "\t\"address\" : {\n",
    "\t\t\"street\" : \"Rue Blaes - Blaesstraat\",\n",
    "\t\t\"housenumber\" : \"40\"\n",
    "\t},\n",
    "\t\"pos\" : [\n",
    "\t\t50.8399661,\n",
    "\t\t4.3498853\n",
    "\t],\n",
    "\t\"id\" : \"2665166241\",\n",
    "\t\"ref:UrbIS\" : \"7876663\"\n",
    "}\n",
    "{\n",
    "\t\"_id\" : ObjectId(\"55005fa78254b358d26e7925\"),\n",
    "\t\"created\" : {\n",
    "\t\t\"uid\" : \"15399\",\n",
    "\t\t\"version\" : \"1\",\n",
    "\t\t\"user\" : \"eMerzh\",\n",
    "\t\t\"changeset\" : \"20485240\",\n",
    "\t\t\"timestamp\" : \"2014-02-10T13:31:51Z\"\n",
    "\t},\n",
    "\t\"type\" : \"node\",\n",
    "\t\"address\" : {\n",
    "\t\t\"street\" : \"Rue Blaes - Blaesstraat\",\n",
    "\t\t\"housenumber\" : \"46\"\n",
    "\t},\n",
    "\t\"pos\" : [\n",
    "\t\t50.8399257,\n",
    "\t\t4.3498449\n",
    "\t],\n",
    "\t\"id\" : \"2665166292\",\n",
    "\t\"ref:UrbIS\" : \"7876663\"\n",
    "}\n",
    "\n",
    "````\n",
    "We see that the data are also relatively poor knowing the density of shop, restaurant etc. arround this place.  \n",
    "\n",
    "Let's look if the query return proper value from the `geoNear` command which allow to obtain the distances between objects in a 2D cartesian space.\n",
    "\n",
    "<img src=\"pictures/GrandPlace.png\">\n",
    "\n",
    "We see that the `\"street\" : \"Rue Blaes - Blaesstraat\"` is actually very close (1.4 km) to the `Grand-place` so the query does make sence."
   ]
  },
  {
   "cell_type": "markdown",
   "metadata": {},
   "source": [
    "# 5. Conclusion"
   ]
  },
  {
   "cell_type": "markdown",
   "metadata": {
    "collapsed": false
   },
   "source": [
    "After this review of the data it’s obvious that the Brussels area is incomplete.\n",
    "Maybe a possible way to improove this dataset is making a script that will extract useful data from the Google Maps API and validate the information available in OpenStreetMap.  Unfortunately, this might violate the Google Maps policy.\n",
    "\n",
    "Nevertheless, it is nice to see open initiative such as OpenStreeMap, for me personally, it open a lot of possibility just for practicing data cleaning, asses the quality of the data for validity, accuracy, completness, consistency ...\n",
    "\n",
    "This project gives a solid fundation on the steps needed to wrangle a dataset.  This workflow can be summerized in 7 steps.\n",
    "\n",
    "    1/ Grab the data of concern (XML, website, JSON ...)\n",
    "    2/ Parse these data, get an understanding of the data, find documentation to gain domain knowledge\n",
    "    3/ Explore the data by checking for anomalies\n",
    "    4/ Audit the data, improove the data quality by building clever data corrector mechanism\n",
    "    5/ Produce a usable output (here JSON)\n",
    "    6/ Load the data to a database\n",
    "    7/ query the data to get insight and start doing data analysis\n",
    "\n",
    "These are basically the steps applied during any ETL (Extract-Transform-Load) project."
   ]
  },
  {
   "cell_type": "markdown",
   "metadata": {
    "collapsed": true
   },
   "source": [
    "#6. Reference"
   ]
  },
  {
   "cell_type": "markdown",
   "metadata": {},
   "source": [
    "<ul>\n",
    "    <li><a href=\"https://wiki.openstreetmap.org/wiki/OSM_XML\">OSM XML Documentation</a></li>\n",
    "    <li><a href=\"http://wiki.openstreetmap.org/wiki/Main_Page\">OpenStreetMap Documentation</a></li>\n",
    "    <li><a href=\"https://mapzen.com/metro-extracts/\">Mapzen</a></li>\n",
    "</ul>"
   ]
  }
 ],
 "metadata": {
  "kernelspec": {
   "display_name": "Python 3",
   "language": "python",
   "name": "python3"
  },
  "language_info": {
   "codemirror_mode": {
    "name": "ipython",
    "version": 3
   },
   "file_extension": ".py",
   "mimetype": "text/x-python",
   "name": "python",
   "nbconvert_exporter": "python",
   "pygments_lexer": "ipython3",
   "version": "3.4.2"
  }
 },
 "nbformat": 4,
 "nbformat_minor": 0
}
