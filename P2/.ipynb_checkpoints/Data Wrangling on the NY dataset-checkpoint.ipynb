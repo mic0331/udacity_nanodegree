{
 "cells": [
  {
   "cell_type": "markdown",
   "metadata": {},
   "source": [
    "## 1. Area of investigation \n",
    "Map Area: New York, Manhattan (USA)\n",
    "<img src=\"pictures/New York.png\" height=\"500\" width=\"800\">"
   ]
  },
  {
   "cell_type": "markdown",
   "metadata": {},
   "source": [
    "As my computer has limited computing power I created a custom query from <a href=\"http://overpass-turbo.eu/\">OverPass turbo</a> where the OSM output file has a reasonable size.\n",
    "I mimited the extraction to only the restaurant.\n",
    "Here is the query\n",
    "````javascript\n",
    "[out:xml][timeout:25];\n",
    "(\n",
    "  node[\"amenity\"=\"restaurant\"]({{bbox}});\n",
    "  way[\"amenity\"=\"restaurant\"]({{bbox}});\n",
    "  relation[\"amenity\"=\"restaurant\"]({{bbox}});\n",
    ");\n",
    "out body;\n",
    ">;\n",
    "out skel qt;\n",
    "````\n",
    "The size of this extract is very small (240kb)\n",
    "````shell\n",
    "ls -l new-york_new-york.osm\n",
    "-rw-r-----@ 1 mic0331  staff  694870 Mar 13 14:53 new-york_new-york.osm\n",
    "````"
   ]
  },
  {
   "cell_type": "code",
   "execution_count": 32,
   "metadata": {
    "collapsed": true
   },
   "outputs": [],
   "source": [
    "from __future__ import absolute_import\n",
    "\n",
    "osm_file = \"./data/new-york_new-york.osm\""
   ]
  },
  {
   "cell_type": "markdown",
   "metadata": {},
   "source": [
    "## 2. `mapparser.py` results"
   ]
  },
  {
   "cell_type": "code",
   "execution_count": 33,
   "metadata": {
    "collapsed": false
   },
   "outputs": [
    {
     "name": "stdout",
     "output_type": "stream",
     "text": [
      "{'member': 2,\n",
      " 'meta': 1,\n",
      " 'nd': 2697,\n",
      " 'node': 3475,\n",
      " 'note': 1,\n",
      " 'osm': 1,\n",
      " 'relation': 1,\n",
      " 'tag': 9780,\n",
      " 'way': 288}\n"
     ]
    }
   ],
   "source": [
    "from scripts import mapparser\n",
    "\n",
    "mapparser.run(osm_file)"
   ]
  },
  {
   "cell_type": "markdown",
   "metadata": {},
   "source": [
    "##3. `tags.py` results"
   ]
  },
  {
   "cell_type": "code",
   "execution_count": 48,
   "metadata": {
    "collapsed": false
   },
   "outputs": [
    {
     "name": "stdout",
     "output_type": "stream",
     "text": [
      "{'lower': 5495, 'lower_colon': 4284, 'other': 1, 'problemchars': 0}\n"
     ]
    }
   ],
   "source": [
    "from scripts import tags\n",
    "\n",
    "tags.run(osm_file)"
   ]
  },
  {
   "cell_type": "markdown",
   "metadata": {},
   "source": [
    "## 4. `audit.py` results"
   ]
  },
  {
   "cell_type": "code",
   "execution_count": 74,
   "metadata": {
    "collapsed": false
   },
   "outputs": [
    {
     "name": "stdout",
     "output_type": "stream",
     "text": [
      "{'Alley': {'Freeman Alley'},\n",
      " 'Americas': {'Avenue Of The Americas'},\n",
      " 'Ave': {'6th Ave', '5th Ave'},\n",
      " 'Ave,': {'Franklin Ave,'},\n",
      " 'Ave.': {'Franklin Ave.', 'Washington Ave.'},\n",
      " 'Avene': {'Madison Avene'},\n",
      " 'B': {'Avenue B'},\n",
      " 'Blvd': {'Bell Blvd', 'Woodhaven Blvd', 'College Point Blvd', 'Queens Blvd'},\n",
      " 'Broadway': {'Broadway', 'West Broadway', 'East Broadway'},\n",
      " 'J': {'Avenue J'},\n",
      " 'North': {'Astoria Boulevard North'},\n",
      " 'Plaza': {'Watchung Plaza'},\n",
      " 'South': {'7th Avenue South'},\n",
      " 'St': {'West 32nd St', '6th St', '9th St'},\n",
      " 'St.': {'East 86th St.', '11th St.', 'Warren St.', 'Washington St.'},\n",
      " 'Steet': {'West 8th Steet'},\n",
      " 'Vanderbilt': {'Vanderbilt'},\n",
      " 'Warren': {'Warren'},\n",
      " 'West': {'Union Square West', 'Cadman Plaza West', 'Central Park West'},\n",
      " 'avenue': {'2nd avenue'},\n",
      " 'street': {'Mott street'}}\n"
     ]
    }
   ],
   "source": [
    "from scripts import audit\n",
    "\n",
    "st_types = audit.audit(osm_file)\n",
    "pprint.pprint(dict(st_types))      "
   ]
  },
  {
   "cell_type": "markdown",
   "metadata": {},
   "source": [
    "As we can see, we have the same problem faced in the Lesson 6 of the course, some street names are spelled differently.\n",
    "Let's implement the update process on this dataset"
   ]
  },
  {
   "cell_type": "code",
   "execution_count": 83,
   "metadata": {
    "collapsed": false
   },
   "outputs": [
    {
     "name": "stdout",
     "output_type": "stream",
     "text": [
      "Road\n",
      "Street\n",
      "Avenue\n",
      "Street\n",
      "Road\n",
      "Street\n",
      "Avenue\n",
      "Street\n",
      "Road\n",
      "Street\n",
      "Avenue\n",
      "Street\n",
      "Road\n",
      "Street\n",
      "Avenue\n",
      "Street\n",
      "Road\n",
      "Street\n",
      "Avenue\n",
      "Street\n",
      "Road\n",
      "Street\n",
      "Avenue\n",
      "Street\n",
      "Road\n",
      "Street\n",
      "Avenue\n",
      "Street\n",
      "Road\n",
      "Street\n",
      "Avenue\n",
      "Street\n",
      "Road\n",
      "Street\n",
      "Avenue\n",
      "Street\n",
      "Road\n",
      "Street\n",
      "Avenue\n",
      "Street\n",
      "Road\n",
      "Street\n",
      "Avenue\n",
      "Street\n",
      "Road\n",
      "Street\n",
      "Avenue\n",
      "Street\n",
      "Road\n",
      "Street\n",
      "Avenue\n",
      "Street\n",
      "Road\n",
      "Street\n",
      "Avenue\n",
      "Street\n",
      "Road\n",
      "Street\n",
      "Avenue\n",
      "Street\n",
      "Road\n",
      "Street\n",
      "Avenue\n",
      "Street\n",
      "Road\n",
      "Street\n",
      "Avenue\n",
      "Street\n",
      "Road\n",
      "Street\n",
      "Avenue\n",
      "Street\n",
      "Road\n",
      "Street\n",
      "Avenue\n",
      "Street\n",
      "Road\n",
      "Street\n",
      "Avenue\n",
      "Street\n",
      "Road\n",
      "Street\n",
      "Avenue\n",
      "Street\n",
      "Road\n",
      "Street\n",
      "Avenue\n",
      "Street\n",
      "Road\n",
      "Street\n",
      "Avenue\n",
      "Street\n",
      "Road\n",
      "Street\n",
      "Avenue\n",
      "Street\n",
      "Road\n",
      "Street\n",
      "Avenue\n",
      "Street\n",
      "Road\n",
      "Street\n",
      "Avenue\n",
      "Street\n",
      "Road\n",
      "Street\n",
      "Avenue\n",
      "Street\n",
      "Road\n",
      "Street\n",
      "Avenue\n",
      "Street\n",
      "Road\n",
      "Street\n",
      "Avenue\n",
      "Street\n",
      "Road\n",
      "Street\n",
      "Avenue\n",
      "Street\n",
      "Road\n",
      "Street\n",
      "Avenue\n",
      "Street\n",
      "Road\n",
      "Street\n",
      "Avenue\n",
      "Street\n",
      "Road\n",
      "Street\n",
      "Avenue\n",
      "Street\n",
      "Road\n",
      "Street\n",
      "Avenue\n",
      "Street\n",
      "Road\n",
      "Street\n",
      "Avenue\n",
      "Street\n"
     ]
    }
   ],
   "source": [
    "mapping = { \"St \": \"Street\",\n",
    "            \"St.\": \"Street\",\n",
    "            \"Rd.\": \"Road\",\n",
    "            \"Ave\": \"Avenue\"}\n",
    "\n",
    "for st_type, ways in st_types.items():\n",
    "    for name in ways:\n",
    "        better_name = audit.update_name(name, mapping)\n",
    "        print(name, \"=>\", better_name)"
   ]
  },
  {
   "cell_type": "code",
   "execution_count": null,
   "metadata": {
    "collapsed": true
   },
   "outputs": [],
   "source": []
  }
 ],
 "metadata": {
  "kernelspec": {
   "display_name": "Python 3",
   "language": "python",
   "name": "python3"
  },
  "language_info": {
   "codemirror_mode": {
    "name": "ipython",
    "version": 3
   },
   "file_extension": ".py",
   "mimetype": "text/x-python",
   "name": "python",
   "nbconvert_exporter": "python",
   "pygments_lexer": "ipython3",
   "version": "3.4.2"
  }
 },
 "nbformat": 4,
 "nbformat_minor": 0
}
